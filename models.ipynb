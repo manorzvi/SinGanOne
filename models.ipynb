{
 "cells": [
  {
   "cell_type": "code",
   "execution_count": 1,
   "metadata": {},
   "outputs": [],
   "source": [
    "import os\n",
    "from argparse import Namespace\n",
    "import torch\n",
    "from models import SinGanOneModel\n",
    "from config import post_config"
   ]
  },
  {
   "cell_type": "code",
   "execution_count": 2,
   "metadata": {},
   "outputs": [
    {
     "data": {
      "text/plain": [
       "Namespace(alpha=10, batch_size=3, device=device(type='cpu'), ker_size=3, max_size=250, min_nfc=32, min_nfc_init=32, min_size=25, model_dir='TrainedModels/nature5/scale_factor=0.75,alpha=10,min_size=25,max_size=250', netD='', netG='', nfc=32, nfc_init=32, niter=10, num_layer=5, num_workers=1, pad_image=5, pad_noise=5, padd_size=0, plotting=False, real_name='nature5.jpg', reals_dir='/home/manor/singan/SinGanOne/Input/Images', res_dir='Output/nature5', scale_factor=0.75, seed=42, top_models_dir='TrainedModels', top_res_dir='Output')"
      ]
     },
     "execution_count": 2,
     "metadata": {},
     "output_type": "execute_result"
    }
   ],
   "source": [
    "opt = Namespace()\n",
    "opt.reals_dir = os.path.join(os.getcwd(), 'Input', 'Images')\n",
    "opt.real_name = 'nature5.jpg'\n",
    "opt.device = torch.device('cuda' if torch.cuda.is_available() else 'cpu')\n",
    "opt.plotting = False\n",
    "opt.seed = 42\n",
    "opt.top_res_dir = 'Output'\n",
    "opt.top_models_dir = 'TrainedModels'\n",
    "opt.min_size = 25\n",
    "opt.max_size = 250\n",
    "opt.batch_size = 3\n",
    "opt.num_workers = 1\n",
    "opt.scale_factor = 0.75\n",
    "opt.ker_size = 3\n",
    "opt.num_layer = 5\n",
    "opt.niter = 10\n",
    "opt.alpha = 10\n",
    "opt.nfc = 32\n",
    "opt.min_nfc = 32\n",
    "opt.padd_size = 0\n",
    "opt.netG = ''\n",
    "opt.netD = ''\n",
    "opt\n",
    "opt = post_config(opt)\n",
    "opt"
   ]
  },
  {
   "cell_type": "code",
   "execution_count": 10,
   "metadata": {},
   "outputs": [],
   "source": [
    "curr_scale = 4"
   ]
  },
  {
   "cell_type": "code",
   "execution_count": 11,
   "metadata": {},
   "outputs": [
    {
     "name": "stdout",
     "output_type": "stream",
     "text": [
      "|--------------------Generator--------------------|\n",
      "|-------------------------------------------------|\n",
      "GeneratorConcatSkip2CleanAdd(\n",
      "  (head): ConvBlock(\n",
      "    (conv): Conv2d(3, 64, kernel_size=(3, 3), stride=(1, 1))\n",
      "    (norm): BatchNorm2d(64, eps=1e-05, momentum=0.1, affine=True, track_running_stats=True)\n",
      "    (LeakyRelu): LeakyReLU(negative_slope=0.2, inplace=True)\n",
      "  )\n",
      "  (body): Sequential(\n",
      "    (block1): ConvBlock(\n",
      "      (conv): Conv2d(64, 64, kernel_size=(3, 3), stride=(1, 1))\n",
      "      (norm): BatchNorm2d(64, eps=1e-05, momentum=0.1, affine=True, track_running_stats=True)\n",
      "      (LeakyRelu): LeakyReLU(negative_slope=0.2, inplace=True)\n",
      "    )\n",
      "    (block2): ConvBlock(\n",
      "      (conv): Conv2d(64, 64, kernel_size=(3, 3), stride=(1, 1))\n",
      "      (norm): BatchNorm2d(64, eps=1e-05, momentum=0.1, affine=True, track_running_stats=True)\n",
      "      (LeakyRelu): LeakyReLU(negative_slope=0.2, inplace=True)\n",
      "    )\n",
      "    (block3): ConvBlock(\n",
      "      (conv): Conv2d(64, 64, kernel_size=(3, 3), stride=(1, 1))\n",
      "      (norm): BatchNorm2d(64, eps=1e-05, momentum=0.1, affine=True, track_running_stats=True)\n",
      "      (LeakyRelu): LeakyReLU(negative_slope=0.2, inplace=True)\n",
      "    )\n",
      "  )\n",
      "  (tail): Sequential(\n",
      "    (0): Conv2d(64, 3, kernel_size=(3, 3), stride=(1, 1))\n",
      "    (1): Tanh()\n",
      "  )\n",
      ")\n",
      "|--------------------Discriminator--------------------|\n",
      "|-----------------------------------------------------|\n",
      "WDiscriminator(\n",
      "  (head): ConvBlock(\n",
      "    (conv): Conv2d(3, 64, kernel_size=(3, 3), stride=(1, 1))\n",
      "    (norm): BatchNorm2d(64, eps=1e-05, momentum=0.1, affine=True, track_running_stats=True)\n",
      "    (LeakyRelu): LeakyReLU(negative_slope=0.2, inplace=True)\n",
      "  )\n",
      "  (body): Sequential(\n",
      "    (block1): ConvBlock(\n",
      "      (conv): Conv2d(64, 64, kernel_size=(3, 3), stride=(1, 1))\n",
      "      (norm): BatchNorm2d(64, eps=1e-05, momentum=0.1, affine=True, track_running_stats=True)\n",
      "      (LeakyRelu): LeakyReLU(negative_slope=0.2, inplace=True)\n",
      "    )\n",
      "    (block2): ConvBlock(\n",
      "      (conv): Conv2d(64, 64, kernel_size=(3, 3), stride=(1, 1))\n",
      "      (norm): BatchNorm2d(64, eps=1e-05, momentum=0.1, affine=True, track_running_stats=True)\n",
      "      (LeakyRelu): LeakyReLU(negative_slope=0.2, inplace=True)\n",
      "    )\n",
      "    (block3): ConvBlock(\n",
      "      (conv): Conv2d(64, 64, kernel_size=(3, 3), stride=(1, 1))\n",
      "      (norm): BatchNorm2d(64, eps=1e-05, momentum=0.1, affine=True, track_running_stats=True)\n",
      "      (LeakyRelu): LeakyReLU(negative_slope=0.2, inplace=True)\n",
      "    )\n",
      "  )\n",
      "  (tail): Conv2d(64, 1, kernel_size=(3, 3), stride=(1, 1))\n",
      ")\n",
      "\n"
     ]
    }
   ],
   "source": [
    "singanone = SinGanOneModel(curr_scale, opt)\n",
    "print(singanone)"
   ]
  },
  {
   "cell_type": "code",
   "execution_count": null,
   "metadata": {},
   "outputs": [],
   "source": []
  }
 ],
 "metadata": {
  "kernelspec": {
   "display_name": "singan",
   "language": "python",
   "name": "singan"
  },
  "language_info": {
   "codemirror_mode": {
    "name": "ipython",
    "version": 3
   },
   "file_extension": ".py",
   "mimetype": "text/x-python",
   "name": "python",
   "nbconvert_exporter": "python",
   "pygments_lexer": "ipython3",
   "version": "3.6.9"
  }
 },
 "nbformat": 4,
 "nbformat_minor": 2
}
